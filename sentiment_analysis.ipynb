{
  "nbformat": 4,
  "nbformat_minor": 0,
  "metadata": {
    "colab": {
      "name": "NLP_Project.ipynb",
      "provenance": [],
      "collapsed_sections": []
    },
    "kernelspec": {
      "name": "python3",
      "display_name": "Python 3"
    },
    "accelerator": "GPU",
    "widgets": {
      "application/vnd.jupyter.widget-state+json": {
        "47398c54dab649b98989d2b1615588e4": {
          "model_module": "@jupyter-widgets/controls",
          "model_name": "HBoxModel",
          "model_module_version": "1.5.0",
          "state": {
            "_view_name": "HBoxView",
            "_dom_classes": [],
            "_model_name": "HBoxModel",
            "_view_module": "@jupyter-widgets/controls",
            "_model_module_version": "1.5.0",
            "_view_count": null,
            "_view_module_version": "1.5.0",
            "box_style": "",
            "layout": "IPY_MODEL_9c3b9fd792b84388ad75924cab36f736",
            "_model_module": "@jupyter-widgets/controls",
            "children": [
              "IPY_MODEL_8d5bdc4acc67444a938581ba34311b61",
              "IPY_MODEL_7736120ef29f4dd8a316cfdecdf86d8b"
            ]
          }
        },
        "9c3b9fd792b84388ad75924cab36f736": {
          "model_module": "@jupyter-widgets/base",
          "model_name": "LayoutModel",
          "model_module_version": "1.2.0",
          "state": {
            "_view_name": "LayoutView",
            "grid_template_rows": null,
            "right": null,
            "justify_content": null,
            "_view_module": "@jupyter-widgets/base",
            "overflow": null,
            "_model_module_version": "1.2.0",
            "_view_count": null,
            "flex_flow": null,
            "width": null,
            "min_width": null,
            "border": null,
            "align_items": null,
            "bottom": null,
            "_model_module": "@jupyter-widgets/base",
            "top": null,
            "grid_column": null,
            "overflow_y": null,
            "overflow_x": null,
            "grid_auto_flow": null,
            "grid_area": null,
            "grid_template_columns": null,
            "flex": null,
            "_model_name": "LayoutModel",
            "justify_items": null,
            "grid_row": null,
            "max_height": null,
            "align_content": null,
            "visibility": null,
            "align_self": null,
            "height": null,
            "min_height": null,
            "padding": null,
            "grid_auto_rows": null,
            "grid_gap": null,
            "max_width": null,
            "order": null,
            "_view_module_version": "1.2.0",
            "grid_template_areas": null,
            "object_position": null,
            "object_fit": null,
            "grid_auto_columns": null,
            "margin": null,
            "display": null,
            "left": null
          }
        },
        "8d5bdc4acc67444a938581ba34311b61": {
          "model_module": "@jupyter-widgets/controls",
          "model_name": "FloatProgressModel",
          "model_module_version": "1.5.0",
          "state": {
            "_view_name": "ProgressView",
            "style": "IPY_MODEL_918d63a9ab0546fdace186be80fc9b32",
            "_dom_classes": [],
            "description": "Downloading: 100%",
            "_model_name": "FloatProgressModel",
            "bar_style": "success",
            "max": 433,
            "_view_module": "@jupyter-widgets/controls",
            "_model_module_version": "1.5.0",
            "value": 433,
            "_view_count": null,
            "_view_module_version": "1.5.0",
            "orientation": "horizontal",
            "min": 0,
            "description_tooltip": null,
            "_model_module": "@jupyter-widgets/controls",
            "layout": "IPY_MODEL_faa6ebcca97a4cf5af28c668f37e98e3"
          }
        },
        "7736120ef29f4dd8a316cfdecdf86d8b": {
          "model_module": "@jupyter-widgets/controls",
          "model_name": "HTMLModel",
          "model_module_version": "1.5.0",
          "state": {
            "_view_name": "HTMLView",
            "style": "IPY_MODEL_910678bd46be4abc9ce98916322a1cd3",
            "_dom_classes": [],
            "description": "",
            "_model_name": "HTMLModel",
            "placeholder": "​",
            "_view_module": "@jupyter-widgets/controls",
            "_model_module_version": "1.5.0",
            "value": " 433/433 [00:05&lt;00:00, 80.6B/s]",
            "_view_count": null,
            "_view_module_version": "1.5.0",
            "description_tooltip": null,
            "_model_module": "@jupyter-widgets/controls",
            "layout": "IPY_MODEL_1c501c94b9ea44c59d879ce8a35ead12"
          }
        },
        "918d63a9ab0546fdace186be80fc9b32": {
          "model_module": "@jupyter-widgets/controls",
          "model_name": "ProgressStyleModel",
          "model_module_version": "1.5.0",
          "state": {
            "_view_name": "StyleView",
            "_model_name": "ProgressStyleModel",
            "description_width": "initial",
            "_view_module": "@jupyter-widgets/base",
            "_model_module_version": "1.5.0",
            "_view_count": null,
            "_view_module_version": "1.2.0",
            "bar_color": null,
            "_model_module": "@jupyter-widgets/controls"
          }
        },
        "faa6ebcca97a4cf5af28c668f37e98e3": {
          "model_module": "@jupyter-widgets/base",
          "model_name": "LayoutModel",
          "model_module_version": "1.2.0",
          "state": {
            "_view_name": "LayoutView",
            "grid_template_rows": null,
            "right": null,
            "justify_content": null,
            "_view_module": "@jupyter-widgets/base",
            "overflow": null,
            "_model_module_version": "1.2.0",
            "_view_count": null,
            "flex_flow": null,
            "width": null,
            "min_width": null,
            "border": null,
            "align_items": null,
            "bottom": null,
            "_model_module": "@jupyter-widgets/base",
            "top": null,
            "grid_column": null,
            "overflow_y": null,
            "overflow_x": null,
            "grid_auto_flow": null,
            "grid_area": null,
            "grid_template_columns": null,
            "flex": null,
            "_model_name": "LayoutModel",
            "justify_items": null,
            "grid_row": null,
            "max_height": null,
            "align_content": null,
            "visibility": null,
            "align_self": null,
            "height": null,
            "min_height": null,
            "padding": null,
            "grid_auto_rows": null,
            "grid_gap": null,
            "max_width": null,
            "order": null,
            "_view_module_version": "1.2.0",
            "grid_template_areas": null,
            "object_position": null,
            "object_fit": null,
            "grid_auto_columns": null,
            "margin": null,
            "display": null,
            "left": null
          }
        },
        "910678bd46be4abc9ce98916322a1cd3": {
          "model_module": "@jupyter-widgets/controls",
          "model_name": "DescriptionStyleModel",
          "model_module_version": "1.5.0",
          "state": {
            "_view_name": "StyleView",
            "_model_name": "DescriptionStyleModel",
            "description_width": "",
            "_view_module": "@jupyter-widgets/base",
            "_model_module_version": "1.5.0",
            "_view_count": null,
            "_view_module_version": "1.2.0",
            "_model_module": "@jupyter-widgets/controls"
          }
        },
        "1c501c94b9ea44c59d879ce8a35ead12": {
          "model_module": "@jupyter-widgets/base",
          "model_name": "LayoutModel",
          "model_module_version": "1.2.0",
          "state": {
            "_view_name": "LayoutView",
            "grid_template_rows": null,
            "right": null,
            "justify_content": null,
            "_view_module": "@jupyter-widgets/base",
            "overflow": null,
            "_model_module_version": "1.2.0",
            "_view_count": null,
            "flex_flow": null,
            "width": null,
            "min_width": null,
            "border": null,
            "align_items": null,
            "bottom": null,
            "_model_module": "@jupyter-widgets/base",
            "top": null,
            "grid_column": null,
            "overflow_y": null,
            "overflow_x": null,
            "grid_auto_flow": null,
            "grid_area": null,
            "grid_template_columns": null,
            "flex": null,
            "_model_name": "LayoutModel",
            "justify_items": null,
            "grid_row": null,
            "max_height": null,
            "align_content": null,
            "visibility": null,
            "align_self": null,
            "height": null,
            "min_height": null,
            "padding": null,
            "grid_auto_rows": null,
            "grid_gap": null,
            "max_width": null,
            "order": null,
            "_view_module_version": "1.2.0",
            "grid_template_areas": null,
            "object_position": null,
            "object_fit": null,
            "grid_auto_columns": null,
            "margin": null,
            "display": null,
            "left": null
          }
        },
        "2329c4e2e1c84cf185389eb8ba78a1d5": {
          "model_module": "@jupyter-widgets/controls",
          "model_name": "HBoxModel",
          "model_module_version": "1.5.0",
          "state": {
            "_view_name": "HBoxView",
            "_dom_classes": [],
            "_model_name": "HBoxModel",
            "_view_module": "@jupyter-widgets/controls",
            "_model_module_version": "1.5.0",
            "_view_count": null,
            "_view_module_version": "1.5.0",
            "box_style": "",
            "layout": "IPY_MODEL_de4da391e139481bb4ed4ae9342733b2",
            "_model_module": "@jupyter-widgets/controls",
            "children": [
              "IPY_MODEL_9d497cf42ad54795b61a9ef5f734635e",
              "IPY_MODEL_33465890635440eca3317addf5b335b8"
            ]
          }
        },
        "de4da391e139481bb4ed4ae9342733b2": {
          "model_module": "@jupyter-widgets/base",
          "model_name": "LayoutModel",
          "model_module_version": "1.2.0",
          "state": {
            "_view_name": "LayoutView",
            "grid_template_rows": null,
            "right": null,
            "justify_content": null,
            "_view_module": "@jupyter-widgets/base",
            "overflow": null,
            "_model_module_version": "1.2.0",
            "_view_count": null,
            "flex_flow": null,
            "width": null,
            "min_width": null,
            "border": null,
            "align_items": null,
            "bottom": null,
            "_model_module": "@jupyter-widgets/base",
            "top": null,
            "grid_column": null,
            "overflow_y": null,
            "overflow_x": null,
            "grid_auto_flow": null,
            "grid_area": null,
            "grid_template_columns": null,
            "flex": null,
            "_model_name": "LayoutModel",
            "justify_items": null,
            "grid_row": null,
            "max_height": null,
            "align_content": null,
            "visibility": null,
            "align_self": null,
            "height": null,
            "min_height": null,
            "padding": null,
            "grid_auto_rows": null,
            "grid_gap": null,
            "max_width": null,
            "order": null,
            "_view_module_version": "1.2.0",
            "grid_template_areas": null,
            "object_position": null,
            "object_fit": null,
            "grid_auto_columns": null,
            "margin": null,
            "display": null,
            "left": null
          }
        },
        "9d497cf42ad54795b61a9ef5f734635e": {
          "model_module": "@jupyter-widgets/controls",
          "model_name": "FloatProgressModel",
          "model_module_version": "1.5.0",
          "state": {
            "_view_name": "ProgressView",
            "style": "IPY_MODEL_d45ff5a2f32549bdad24b11c761a0727",
            "_dom_classes": [],
            "description": "Downloading: 100%",
            "_model_name": "FloatProgressModel",
            "bar_style": "success",
            "max": 231508,
            "_view_module": "@jupyter-widgets/controls",
            "_model_module_version": "1.5.0",
            "value": 231508,
            "_view_count": null,
            "_view_module_version": "1.5.0",
            "orientation": "horizontal",
            "min": 0,
            "description_tooltip": null,
            "_model_module": "@jupyter-widgets/controls",
            "layout": "IPY_MODEL_65ffa5f01fdf4684a64d0c49a769e88e"
          }
        },
        "33465890635440eca3317addf5b335b8": {
          "model_module": "@jupyter-widgets/controls",
          "model_name": "HTMLModel",
          "model_module_version": "1.5.0",
          "state": {
            "_view_name": "HTMLView",
            "style": "IPY_MODEL_2e695b54c1434b4ba78192049f71461a",
            "_dom_classes": [],
            "description": "",
            "_model_name": "HTMLModel",
            "placeholder": "​",
            "_view_module": "@jupyter-widgets/controls",
            "_model_module_version": "1.5.0",
            "value": " 232k/232k [00:03&lt;00:00, 63.7kB/s]",
            "_view_count": null,
            "_view_module_version": "1.5.0",
            "description_tooltip": null,
            "_model_module": "@jupyter-widgets/controls",
            "layout": "IPY_MODEL_57f095ae13d14ac28e156b61108a2da8"
          }
        },
        "d45ff5a2f32549bdad24b11c761a0727": {
          "model_module": "@jupyter-widgets/controls",
          "model_name": "ProgressStyleModel",
          "model_module_version": "1.5.0",
          "state": {
            "_view_name": "StyleView",
            "_model_name": "ProgressStyleModel",
            "description_width": "initial",
            "_view_module": "@jupyter-widgets/base",
            "_model_module_version": "1.5.0",
            "_view_count": null,
            "_view_module_version": "1.2.0",
            "bar_color": null,
            "_model_module": "@jupyter-widgets/controls"
          }
        },
        "65ffa5f01fdf4684a64d0c49a769e88e": {
          "model_module": "@jupyter-widgets/base",
          "model_name": "LayoutModel",
          "model_module_version": "1.2.0",
          "state": {
            "_view_name": "LayoutView",
            "grid_template_rows": null,
            "right": null,
            "justify_content": null,
            "_view_module": "@jupyter-widgets/base",
            "overflow": null,
            "_model_module_version": "1.2.0",
            "_view_count": null,
            "flex_flow": null,
            "width": null,
            "min_width": null,
            "border": null,
            "align_items": null,
            "bottom": null,
            "_model_module": "@jupyter-widgets/base",
            "top": null,
            "grid_column": null,
            "overflow_y": null,
            "overflow_x": null,
            "grid_auto_flow": null,
            "grid_area": null,
            "grid_template_columns": null,
            "flex": null,
            "_model_name": "LayoutModel",
            "justify_items": null,
            "grid_row": null,
            "max_height": null,
            "align_content": null,
            "visibility": null,
            "align_self": null,
            "height": null,
            "min_height": null,
            "padding": null,
            "grid_auto_rows": null,
            "grid_gap": null,
            "max_width": null,
            "order": null,
            "_view_module_version": "1.2.0",
            "grid_template_areas": null,
            "object_position": null,
            "object_fit": null,
            "grid_auto_columns": null,
            "margin": null,
            "display": null,
            "left": null
          }
        },
        "2e695b54c1434b4ba78192049f71461a": {
          "model_module": "@jupyter-widgets/controls",
          "model_name": "DescriptionStyleModel",
          "model_module_version": "1.5.0",
          "state": {
            "_view_name": "StyleView",
            "_model_name": "DescriptionStyleModel",
            "description_width": "",
            "_view_module": "@jupyter-widgets/base",
            "_model_module_version": "1.5.0",
            "_view_count": null,
            "_view_module_version": "1.2.0",
            "_model_module": "@jupyter-widgets/controls"
          }
        },
        "57f095ae13d14ac28e156b61108a2da8": {
          "model_module": "@jupyter-widgets/base",
          "model_name": "LayoutModel",
          "model_module_version": "1.2.0",
          "state": {
            "_view_name": "LayoutView",
            "grid_template_rows": null,
            "right": null,
            "justify_content": null,
            "_view_module": "@jupyter-widgets/base",
            "overflow": null,
            "_model_module_version": "1.2.0",
            "_view_count": null,
            "flex_flow": null,
            "width": null,
            "min_width": null,
            "border": null,
            "align_items": null,
            "bottom": null,
            "_model_module": "@jupyter-widgets/base",
            "top": null,
            "grid_column": null,
            "overflow_y": null,
            "overflow_x": null,
            "grid_auto_flow": null,
            "grid_area": null,
            "grid_template_columns": null,
            "flex": null,
            "_model_name": "LayoutModel",
            "justify_items": null,
            "grid_row": null,
            "max_height": null,
            "align_content": null,
            "visibility": null,
            "align_self": null,
            "height": null,
            "min_height": null,
            "padding": null,
            "grid_auto_rows": null,
            "grid_gap": null,
            "max_width": null,
            "order": null,
            "_view_module_version": "1.2.0",
            "grid_template_areas": null,
            "object_position": null,
            "object_fit": null,
            "grid_auto_columns": null,
            "margin": null,
            "display": null,
            "left": null
          }
        },
        "dfb6e1d77e1b4e64b61b3214d0293bff": {
          "model_module": "@jupyter-widgets/controls",
          "model_name": "HBoxModel",
          "model_module_version": "1.5.0",
          "state": {
            "_view_name": "HBoxView",
            "_dom_classes": [],
            "_model_name": "HBoxModel",
            "_view_module": "@jupyter-widgets/controls",
            "_model_module_version": "1.5.0",
            "_view_count": null,
            "_view_module_version": "1.5.0",
            "box_style": "",
            "layout": "IPY_MODEL_c746189eb6d44f03851823ebaab05d5d",
            "_model_module": "@jupyter-widgets/controls",
            "children": [
              "IPY_MODEL_c53002214563449798013aed18db307b",
              "IPY_MODEL_c57b9b2923be4d2fb9b02ef6dd2fd084"
            ]
          }
        },
        "c746189eb6d44f03851823ebaab05d5d": {
          "model_module": "@jupyter-widgets/base",
          "model_name": "LayoutModel",
          "model_module_version": "1.2.0",
          "state": {
            "_view_name": "LayoutView",
            "grid_template_rows": null,
            "right": null,
            "justify_content": null,
            "_view_module": "@jupyter-widgets/base",
            "overflow": null,
            "_model_module_version": "1.2.0",
            "_view_count": null,
            "flex_flow": null,
            "width": null,
            "min_width": null,
            "border": null,
            "align_items": null,
            "bottom": null,
            "_model_module": "@jupyter-widgets/base",
            "top": null,
            "grid_column": null,
            "overflow_y": null,
            "overflow_x": null,
            "grid_auto_flow": null,
            "grid_area": null,
            "grid_template_columns": null,
            "flex": null,
            "_model_name": "LayoutModel",
            "justify_items": null,
            "grid_row": null,
            "max_height": null,
            "align_content": null,
            "visibility": null,
            "align_self": null,
            "height": null,
            "min_height": null,
            "padding": null,
            "grid_auto_rows": null,
            "grid_gap": null,
            "max_width": null,
            "order": null,
            "_view_module_version": "1.2.0",
            "grid_template_areas": null,
            "object_position": null,
            "object_fit": null,
            "grid_auto_columns": null,
            "margin": null,
            "display": null,
            "left": null
          }
        },
        "c53002214563449798013aed18db307b": {
          "model_module": "@jupyter-widgets/controls",
          "model_name": "FloatProgressModel",
          "model_module_version": "1.5.0",
          "state": {
            "_view_name": "ProgressView",
            "style": "IPY_MODEL_b2684732646942a69255c5dbf96b0841",
            "_dom_classes": [],
            "description": "Downloading: 100%",
            "_model_name": "FloatProgressModel",
            "bar_style": "success",
            "max": 466062,
            "_view_module": "@jupyter-widgets/controls",
            "_model_module_version": "1.5.0",
            "value": 466062,
            "_view_count": null,
            "_view_module_version": "1.5.0",
            "orientation": "horizontal",
            "min": 0,
            "description_tooltip": null,
            "_model_module": "@jupyter-widgets/controls",
            "layout": "IPY_MODEL_680beb0b19e249b994eb0a40bc61a651"
          }
        },
        "c57b9b2923be4d2fb9b02ef6dd2fd084": {
          "model_module": "@jupyter-widgets/controls",
          "model_name": "HTMLModel",
          "model_module_version": "1.5.0",
          "state": {
            "_view_name": "HTMLView",
            "style": "IPY_MODEL_c5ff5a03f7f84bda903cd8a0b5f07a73",
            "_dom_classes": [],
            "description": "",
            "_model_name": "HTMLModel",
            "placeholder": "​",
            "_view_module": "@jupyter-widgets/controls",
            "_model_module_version": "1.5.0",
            "value": " 466k/466k [00:01&lt;00:00, 262kB/s]",
            "_view_count": null,
            "_view_module_version": "1.5.0",
            "description_tooltip": null,
            "_model_module": "@jupyter-widgets/controls",
            "layout": "IPY_MODEL_7660db3f340a400c9fb553590ddfa5fa"
          }
        },
        "b2684732646942a69255c5dbf96b0841": {
          "model_module": "@jupyter-widgets/controls",
          "model_name": "ProgressStyleModel",
          "model_module_version": "1.5.0",
          "state": {
            "_view_name": "StyleView",
            "_model_name": "ProgressStyleModel",
            "description_width": "initial",
            "_view_module": "@jupyter-widgets/base",
            "_model_module_version": "1.5.0",
            "_view_count": null,
            "_view_module_version": "1.2.0",
            "bar_color": null,
            "_model_module": "@jupyter-widgets/controls"
          }
        },
        "680beb0b19e249b994eb0a40bc61a651": {
          "model_module": "@jupyter-widgets/base",
          "model_name": "LayoutModel",
          "model_module_version": "1.2.0",
          "state": {
            "_view_name": "LayoutView",
            "grid_template_rows": null,
            "right": null,
            "justify_content": null,
            "_view_module": "@jupyter-widgets/base",
            "overflow": null,
            "_model_module_version": "1.2.0",
            "_view_count": null,
            "flex_flow": null,
            "width": null,
            "min_width": null,
            "border": null,
            "align_items": null,
            "bottom": null,
            "_model_module": "@jupyter-widgets/base",
            "top": null,
            "grid_column": null,
            "overflow_y": null,
            "overflow_x": null,
            "grid_auto_flow": null,
            "grid_area": null,
            "grid_template_columns": null,
            "flex": null,
            "_model_name": "LayoutModel",
            "justify_items": null,
            "grid_row": null,
            "max_height": null,
            "align_content": null,
            "visibility": null,
            "align_self": null,
            "height": null,
            "min_height": null,
            "padding": null,
            "grid_auto_rows": null,
            "grid_gap": null,
            "max_width": null,
            "order": null,
            "_view_module_version": "1.2.0",
            "grid_template_areas": null,
            "object_position": null,
            "object_fit": null,
            "grid_auto_columns": null,
            "margin": null,
            "display": null,
            "left": null
          }
        },
        "c5ff5a03f7f84bda903cd8a0b5f07a73": {
          "model_module": "@jupyter-widgets/controls",
          "model_name": "DescriptionStyleModel",
          "model_module_version": "1.5.0",
          "state": {
            "_view_name": "StyleView",
            "_model_name": "DescriptionStyleModel",
            "description_width": "",
            "_view_module": "@jupyter-widgets/base",
            "_model_module_version": "1.5.0",
            "_view_count": null,
            "_view_module_version": "1.2.0",
            "_model_module": "@jupyter-widgets/controls"
          }
        },
        "7660db3f340a400c9fb553590ddfa5fa": {
          "model_module": "@jupyter-widgets/base",
          "model_name": "LayoutModel",
          "model_module_version": "1.2.0",
          "state": {
            "_view_name": "LayoutView",
            "grid_template_rows": null,
            "right": null,
            "justify_content": null,
            "_view_module": "@jupyter-widgets/base",
            "overflow": null,
            "_model_module_version": "1.2.0",
            "_view_count": null,
            "flex_flow": null,
            "width": null,
            "min_width": null,
            "border": null,
            "align_items": null,
            "bottom": null,
            "_model_module": "@jupyter-widgets/base",
            "top": null,
            "grid_column": null,
            "overflow_y": null,
            "overflow_x": null,
            "grid_auto_flow": null,
            "grid_area": null,
            "grid_template_columns": null,
            "flex": null,
            "_model_name": "LayoutModel",
            "justify_items": null,
            "grid_row": null,
            "max_height": null,
            "align_content": null,
            "visibility": null,
            "align_self": null,
            "height": null,
            "min_height": null,
            "padding": null,
            "grid_auto_rows": null,
            "grid_gap": null,
            "max_width": null,
            "order": null,
            "_view_module_version": "1.2.0",
            "grid_template_areas": null,
            "object_position": null,
            "object_fit": null,
            "grid_auto_columns": null,
            "margin": null,
            "display": null,
            "left": null
          }
        },
        "5081874fffc049c6ae929cf46930d582": {
          "model_module": "@jupyter-widgets/controls",
          "model_name": "HBoxModel",
          "model_module_version": "1.5.0",
          "state": {
            "_view_name": "HBoxView",
            "_dom_classes": [],
            "_model_name": "HBoxModel",
            "_view_module": "@jupyter-widgets/controls",
            "_model_module_version": "1.5.0",
            "_view_count": null,
            "_view_module_version": "1.5.0",
            "box_style": "",
            "layout": "IPY_MODEL_11b379e888cf47f6929781b1286eb5bf",
            "_model_module": "@jupyter-widgets/controls",
            "children": [
              "IPY_MODEL_3de0a82129334f1193b2cc9b9eb49497",
              "IPY_MODEL_d71c3d2deb7042ef9a85ec6ec090a285"
            ]
          }
        },
        "11b379e888cf47f6929781b1286eb5bf": {
          "model_module": "@jupyter-widgets/base",
          "model_name": "LayoutModel",
          "model_module_version": "1.2.0",
          "state": {
            "_view_name": "LayoutView",
            "grid_template_rows": null,
            "right": null,
            "justify_content": null,
            "_view_module": "@jupyter-widgets/base",
            "overflow": null,
            "_model_module_version": "1.2.0",
            "_view_count": null,
            "flex_flow": null,
            "width": null,
            "min_width": null,
            "border": null,
            "align_items": null,
            "bottom": null,
            "_model_module": "@jupyter-widgets/base",
            "top": null,
            "grid_column": null,
            "overflow_y": null,
            "overflow_x": null,
            "grid_auto_flow": null,
            "grid_area": null,
            "grid_template_columns": null,
            "flex": null,
            "_model_name": "LayoutModel",
            "justify_items": null,
            "grid_row": null,
            "max_height": null,
            "align_content": null,
            "visibility": null,
            "align_self": null,
            "height": null,
            "min_height": null,
            "padding": null,
            "grid_auto_rows": null,
            "grid_gap": null,
            "max_width": null,
            "order": null,
            "_view_module_version": "1.2.0",
            "grid_template_areas": null,
            "object_position": null,
            "object_fit": null,
            "grid_auto_columns": null,
            "margin": null,
            "display": null,
            "left": null
          }
        },
        "3de0a82129334f1193b2cc9b9eb49497": {
          "model_module": "@jupyter-widgets/controls",
          "model_name": "FloatProgressModel",
          "model_module_version": "1.5.0",
          "state": {
            "_view_name": "ProgressView",
            "style": "IPY_MODEL_9539c499e97c415d90033f33cfcfb09d",
            "_dom_classes": [],
            "description": "Downloading: 100%",
            "_model_name": "FloatProgressModel",
            "bar_style": "success",
            "max": 440473133,
            "_view_module": "@jupyter-widgets/controls",
            "_model_module_version": "1.5.0",
            "value": 440473133,
            "_view_count": null,
            "_view_module_version": "1.5.0",
            "orientation": "horizontal",
            "min": 0,
            "description_tooltip": null,
            "_model_module": "@jupyter-widgets/controls",
            "layout": "IPY_MODEL_982ae7a800324c6199b96684d1ab87b3"
          }
        },
        "d71c3d2deb7042ef9a85ec6ec090a285": {
          "model_module": "@jupyter-widgets/controls",
          "model_name": "HTMLModel",
          "model_module_version": "1.5.0",
          "state": {
            "_view_name": "HTMLView",
            "style": "IPY_MODEL_e4b7907a2b894fd6a16b85246ad4d157",
            "_dom_classes": [],
            "description": "",
            "_model_name": "HTMLModel",
            "placeholder": "​",
            "_view_module": "@jupyter-widgets/controls",
            "_model_module_version": "1.5.0",
            "value": " 440M/440M [00:09&lt;00:00, 45.6MB/s]",
            "_view_count": null,
            "_view_module_version": "1.5.0",
            "description_tooltip": null,
            "_model_module": "@jupyter-widgets/controls",
            "layout": "IPY_MODEL_3157442b0f5949d4b468ca8638b8ecb8"
          }
        },
        "9539c499e97c415d90033f33cfcfb09d": {
          "model_module": "@jupyter-widgets/controls",
          "model_name": "ProgressStyleModel",
          "model_module_version": "1.5.0",
          "state": {
            "_view_name": "StyleView",
            "_model_name": "ProgressStyleModel",
            "description_width": "initial",
            "_view_module": "@jupyter-widgets/base",
            "_model_module_version": "1.5.0",
            "_view_count": null,
            "_view_module_version": "1.2.0",
            "bar_color": null,
            "_model_module": "@jupyter-widgets/controls"
          }
        },
        "982ae7a800324c6199b96684d1ab87b3": {
          "model_module": "@jupyter-widgets/base",
          "model_name": "LayoutModel",
          "model_module_version": "1.2.0",
          "state": {
            "_view_name": "LayoutView",
            "grid_template_rows": null,
            "right": null,
            "justify_content": null,
            "_view_module": "@jupyter-widgets/base",
            "overflow": null,
            "_model_module_version": "1.2.0",
            "_view_count": null,
            "flex_flow": null,
            "width": null,
            "min_width": null,
            "border": null,
            "align_items": null,
            "bottom": null,
            "_model_module": "@jupyter-widgets/base",
            "top": null,
            "grid_column": null,
            "overflow_y": null,
            "overflow_x": null,
            "grid_auto_flow": null,
            "grid_area": null,
            "grid_template_columns": null,
            "flex": null,
            "_model_name": "LayoutModel",
            "justify_items": null,
            "grid_row": null,
            "max_height": null,
            "align_content": null,
            "visibility": null,
            "align_self": null,
            "height": null,
            "min_height": null,
            "padding": null,
            "grid_auto_rows": null,
            "grid_gap": null,
            "max_width": null,
            "order": null,
            "_view_module_version": "1.2.0",
            "grid_template_areas": null,
            "object_position": null,
            "object_fit": null,
            "grid_auto_columns": null,
            "margin": null,
            "display": null,
            "left": null
          }
        },
        "e4b7907a2b894fd6a16b85246ad4d157": {
          "model_module": "@jupyter-widgets/controls",
          "model_name": "DescriptionStyleModel",
          "model_module_version": "1.5.0",
          "state": {
            "_view_name": "StyleView",
            "_model_name": "DescriptionStyleModel",
            "description_width": "",
            "_view_module": "@jupyter-widgets/base",
            "_model_module_version": "1.5.0",
            "_view_count": null,
            "_view_module_version": "1.2.0",
            "_model_module": "@jupyter-widgets/controls"
          }
        },
        "3157442b0f5949d4b468ca8638b8ecb8": {
          "model_module": "@jupyter-widgets/base",
          "model_name": "LayoutModel",
          "model_module_version": "1.2.0",
          "state": {
            "_view_name": "LayoutView",
            "grid_template_rows": null,
            "right": null,
            "justify_content": null,
            "_view_module": "@jupyter-widgets/base",
            "overflow": null,
            "_model_module_version": "1.2.0",
            "_view_count": null,
            "flex_flow": null,
            "width": null,
            "min_width": null,
            "border": null,
            "align_items": null,
            "bottom": null,
            "_model_module": "@jupyter-widgets/base",
            "top": null,
            "grid_column": null,
            "overflow_y": null,
            "overflow_x": null,
            "grid_auto_flow": null,
            "grid_area": null,
            "grid_template_columns": null,
            "flex": null,
            "_model_name": "LayoutModel",
            "justify_items": null,
            "grid_row": null,
            "max_height": null,
            "align_content": null,
            "visibility": null,
            "align_self": null,
            "height": null,
            "min_height": null,
            "padding": null,
            "grid_auto_rows": null,
            "grid_gap": null,
            "max_width": null,
            "order": null,
            "_view_module_version": "1.2.0",
            "grid_template_areas": null,
            "object_position": null,
            "object_fit": null,
            "grid_auto_columns": null,
            "margin": null,
            "display": null,
            "left": null
          }
        }
      }
    }
  },
  "cells": [
    {
      "cell_type": "markdown",
      "metadata": {
        "id": "1KG46LSonPDP"
      },
      "source": [
        "## Importing and setup"
      ]
    },
    {
      "cell_type": "code",
      "metadata": {
        "id": "_ZYffn9G6OlS"
      },
      "source": [
        "!pip install ohmeow-blurr"
      ],
      "execution_count": null,
      "outputs": []
    },
    {
      "cell_type": "code",
      "metadata": {
        "colab": {
          "base_uri": "https://localhost:8080/"
        },
        "id": "J2nnywb09Eod",
        "outputId": "a5a9ae2e-55f8-4188-ea49-2e155d7f0adf"
      },
      "source": [
        "!unzip '/content/drive/MyDrive/train.csv.zip'"
      ],
      "execution_count": null,
      "outputs": [
        {
          "output_type": "stream",
          "text": [
            "Archive:  /content/drive/MyDrive/train.csv.zip\n",
            "  inflating: train.csv               \n"
          ],
          "name": "stdout"
        }
      ]
    },
    {
      "cell_type": "code",
      "metadata": {
        "id": "dI3rVjpH6uNN",
        "colab": {
          "base_uri": "https://localhost:8080/"
        },
        "outputId": "7b1bdfd2-79d2-4276-cc7c-97666fa9d157"
      },
      "source": [
        "import torch\n",
        "from transformers import *\n",
        "from fastai.text.all import *\n",
        "\n",
        "from blurr.data.all import *\n",
        "from blurr.modeling.all import *"
      ],
      "execution_count": null,
      "outputs": [
        {
          "output_type": "stream",
          "text": [
            "[nltk_data] Downloading package wordnet to /root/nltk_data...\n",
            "[nltk_data]   Unzipping corpora/wordnet.zip.\n"
          ],
          "name": "stdout"
        }
      ]
    },
    {
      "cell_type": "markdown",
      "metadata": {
        "id": "VeM62NYrnURG"
      },
      "source": [
        "### Defining task, model, arch, config and tokenizer"
      ]
    },
    {
      "cell_type": "code",
      "metadata": {
        "id": "Fw2MeB7o7Dyg",
        "colab": {
          "base_uri": "https://localhost:8080/",
          "height": 213,
          "referenced_widgets": [
            "47398c54dab649b98989d2b1615588e4",
            "9c3b9fd792b84388ad75924cab36f736",
            "8d5bdc4acc67444a938581ba34311b61",
            "7736120ef29f4dd8a316cfdecdf86d8b",
            "918d63a9ab0546fdace186be80fc9b32",
            "faa6ebcca97a4cf5af28c668f37e98e3",
            "910678bd46be4abc9ce98916322a1cd3",
            "1c501c94b9ea44c59d879ce8a35ead12",
            "2329c4e2e1c84cf185389eb8ba78a1d5",
            "de4da391e139481bb4ed4ae9342733b2",
            "9d497cf42ad54795b61a9ef5f734635e",
            "33465890635440eca3317addf5b335b8",
            "d45ff5a2f32549bdad24b11c761a0727",
            "65ffa5f01fdf4684a64d0c49a769e88e",
            "2e695b54c1434b4ba78192049f71461a",
            "57f095ae13d14ac28e156b61108a2da8",
            "dfb6e1d77e1b4e64b61b3214d0293bff",
            "c746189eb6d44f03851823ebaab05d5d",
            "c53002214563449798013aed18db307b",
            "c57b9b2923be4d2fb9b02ef6dd2fd084",
            "b2684732646942a69255c5dbf96b0841",
            "680beb0b19e249b994eb0a40bc61a651",
            "c5ff5a03f7f84bda903cd8a0b5f07a73",
            "7660db3f340a400c9fb553590ddfa5fa",
            "5081874fffc049c6ae929cf46930d582",
            "11b379e888cf47f6929781b1286eb5bf",
            "3de0a82129334f1193b2cc9b9eb49497",
            "d71c3d2deb7042ef9a85ec6ec090a285",
            "9539c499e97c415d90033f33cfcfb09d",
            "982ae7a800324c6199b96684d1ab87b3",
            "e4b7907a2b894fd6a16b85246ad4d157",
            "3157442b0f5949d4b468ca8638b8ecb8"
          ]
        },
        "outputId": "cf7a17c1-aeaf-46d3-879d-0ab4a1166305"
      },
      "source": [
        "task = HF_TASKS_AUTO.SequenceClassification\n",
        "\n",
        "pretrained_model_name = \"bert-base-uncased\"\n",
        "\n",
        "hf_arch, hf_config, hf_tokenizer, hf_model = BLURR_MODEL_HELPER.get_hf_objects(pretrained_model_name,  task=task, config_kwargs={'num_labels': 3})"
      ],
      "execution_count": null,
      "outputs": [
        {
          "output_type": "display_data",
          "data": {
            "application/vnd.jupyter.widget-view+json": {
              "model_id": "47398c54dab649b98989d2b1615588e4",
              "version_minor": 0,
              "version_major": 2
            },
            "text/plain": [
              "HBox(children=(FloatProgress(value=0.0, description='Downloading', max=433.0, style=ProgressStyle(description_…"
            ]
          },
          "metadata": {
            "tags": []
          }
        },
        {
          "output_type": "stream",
          "text": [
            "\n"
          ],
          "name": "stdout"
        },
        {
          "output_type": "display_data",
          "data": {
            "application/vnd.jupyter.widget-view+json": {
              "model_id": "2329c4e2e1c84cf185389eb8ba78a1d5",
              "version_minor": 0,
              "version_major": 2
            },
            "text/plain": [
              "HBox(children=(FloatProgress(value=0.0, description='Downloading', max=231508.0, style=ProgressStyle(descripti…"
            ]
          },
          "metadata": {
            "tags": []
          }
        },
        {
          "output_type": "stream",
          "text": [
            "\n"
          ],
          "name": "stdout"
        },
        {
          "output_type": "display_data",
          "data": {
            "application/vnd.jupyter.widget-view+json": {
              "model_id": "dfb6e1d77e1b4e64b61b3214d0293bff",
              "version_minor": 0,
              "version_major": 2
            },
            "text/plain": [
              "HBox(children=(FloatProgress(value=0.0, description='Downloading', max=466062.0, style=ProgressStyle(descripti…"
            ]
          },
          "metadata": {
            "tags": []
          }
        },
        {
          "output_type": "stream",
          "text": [
            "\n"
          ],
          "name": "stdout"
        },
        {
          "output_type": "display_data",
          "data": {
            "application/vnd.jupyter.widget-view+json": {
              "model_id": "5081874fffc049c6ae929cf46930d582",
              "version_minor": 0,
              "version_major": 2
            },
            "text/plain": [
              "HBox(children=(FloatProgress(value=0.0, description='Downloading', max=440473133.0, style=ProgressStyle(descri…"
            ]
          },
          "metadata": {
            "tags": []
          }
        },
        {
          "output_type": "stream",
          "text": [
            "\n"
          ],
          "name": "stdout"
        }
      ]
    },
    {
      "cell_type": "code",
      "metadata": {
        "id": "cQqCrroGnjpX"
      },
      "source": [
        "model_path = Path('models')"
      ],
      "execution_count": null,
      "outputs": []
    },
    {
      "cell_type": "markdown",
      "metadata": {
        "id": "l7w_hER9noK1"
      },
      "source": [
        "## Reading dataset into Pandas dataframe"
      ]
    },
    {
      "cell_type": "code",
      "metadata": {
        "id": "NDxVixhO9YHa"
      },
      "source": [
        "#Read dataset\n",
        "df = pd.read_csv('/content/train.csv')"
      ],
      "execution_count": null,
      "outputs": []
    },
    {
      "cell_type": "code",
      "metadata": {
        "id": "dD7P2uROQvGS",
        "colab": {
          "base_uri": "https://localhost:8080/"
        },
        "outputId": "b35b5e77-ec0a-4e88-83a7-47e5275d3dd2"
      },
      "source": [
        "#Check size\n",
        "df.shape"
      ],
      "execution_count": null,
      "outputs": [
        {
          "output_type": "execute_result",
          "data": {
            "text/plain": [
              "(146811, 3)"
            ]
          },
          "metadata": {
            "tags": []
          },
          "execution_count": 16
        }
      ]
    },
    {
      "cell_type": "markdown",
      "metadata": {
        "id": "TkpTsXEgI_xX"
      },
      "source": [
        "## Pre-processing"
      ]
    },
    {
      "cell_type": "code",
      "metadata": {
        "id": "w5z650QZHyb2"
      },
      "source": [
        "#Drop review_id column\n",
        "df = df.drop(['review_id'], axis=1)"
      ],
      "execution_count": null,
      "outputs": []
    },
    {
      "cell_type": "code",
      "metadata": {
        "id": "dyb0w6DAIDjm"
      },
      "source": [
        "#Change review column to lowercase\n",
        "df['review'] = df['review'].str.lower()"
      ],
      "execution_count": null,
      "outputs": []
    },
    {
      "cell_type": "code",
      "metadata": {
        "id": "wU_yViSiH9JQ"
      },
      "source": [
        "#Drop duplicate rows\n",
        "df = df.drop_duplicates()"
      ],
      "execution_count": null,
      "outputs": []
    },
    {
      "cell_type": "code",
      "metadata": {
        "id": "OaCZEopgISxg",
        "colab": {
          "base_uri": "https://localhost:8080/"
        },
        "outputId": "0938fb50-3ed5-4ecf-baaa-695c8bf29dea"
      },
      "source": [
        "#Check shape again\n",
        "df.shape"
      ],
      "execution_count": null,
      "outputs": [
        {
          "output_type": "execute_result",
          "data": {
            "text/plain": [
              "(116697, 2)"
            ]
          },
          "metadata": {
            "tags": []
          },
          "execution_count": 20
        }
      ]
    },
    {
      "cell_type": "code",
      "metadata": {
        "id": "zZmxsYvvIfct"
      },
      "source": [
        "#Shuffle rows\n",
        "df = df.sample(frac=1).reset_index(drop=True)"
      ],
      "execution_count": null,
      "outputs": []
    },
    {
      "cell_type": "markdown",
      "metadata": {
        "id": "QYCzKjljnzaH"
      },
      "source": [
        "### Adding a new column with sentiment based on rating"
      ]
    },
    {
      "cell_type": "code",
      "metadata": {
        "id": "t9ChN3h3Tjok"
      },
      "source": [
        "def scoretosent(score):\n",
        "  if score > 3:\n",
        "    return \"positive\"\n",
        "  elif score == 3:\n",
        "    return \"neutral\"\n",
        "  else:\n",
        "    return \"negative\""
      ],
      "execution_count": null,
      "outputs": []
    },
    {
      "cell_type": "code",
      "metadata": {
        "id": "2YDlqI87THcq"
      },
      "source": [
        "df[\"sentiment\"] = df[\"rating\"].apply(lambda score: scoretosent(score))"
      ],
      "execution_count": null,
      "outputs": []
    },
    {
      "cell_type": "code",
      "metadata": {
        "id": "iRKBjJyv9yRa",
        "colab": {
          "base_uri": "https://localhost:8080/",
          "height": 453
        },
        "outputId": "06e67a02-7eb2-4cca-c14a-b238eba37689"
      },
      "source": [
        "df"
      ],
      "execution_count": null,
      "outputs": [
        {
          "output_type": "execute_result",
          "data": {
            "text/html": [
              "<div>\n",
              "<style scoped>\n",
              "    .dataframe tbody tr th:only-of-type {\n",
              "        vertical-align: middle;\n",
              "    }\n",
              "\n",
              "    .dataframe tbody tr th {\n",
              "        vertical-align: top;\n",
              "    }\n",
              "\n",
              "    .dataframe thead th {\n",
              "        text-align: right;\n",
              "    }\n",
              "</style>\n",
              "<table border=\"1\" class=\"dataframe\">\n",
              "  <thead>\n",
              "    <tr style=\"text-align: right;\">\n",
              "      <th></th>\n",
              "      <th>review</th>\n",
              "      <th>rating</th>\n",
              "      <th>sentiment</th>\n",
              "    </tr>\n",
              "  </thead>\n",
              "  <tbody>\n",
              "    <tr>\n",
              "      <th>0</th>\n",
              "      <td>pleasant transportation is very slow</td>\n",
              "      <td>2</td>\n",
              "      <td>negative</td>\n",
              "    </tr>\n",
              "    <tr>\n",
              "      <th>1</th>\n",
              "      <td>like similar products, madam gie price'm bangettt sukaaaa dehhhhhh .........  @@ 85 (5 (6 (6) 6) 6) 6) 6) 8) 8) 8 (8 (</td>\n",
              "      <td>4</td>\n",
              "      <td>positive</td>\n",
              "    </tr>\n",
              "    <tr>\n",
              "      <th>2</th>\n",
              "      <td>look like no original product.</td>\n",
              "      <td>1</td>\n",
              "      <td>negative</td>\n",
              "    </tr>\n",
              "    <tr>\n",
              "      <th>3</th>\n",
              "      <td>according to the statement, has a gift of balloons with beautiful colors, good product quality. transport service, fast delivery, good package to arrive, then the damage.</td>\n",
              "      <td>4</td>\n",
              "      <td>positive</td>\n",
              "    </tr>\n",
              "    <tr>\n",
              "      <th>4</th>\n",
              "      <td>defective products factory these blocks trolley order 2pcs, 1pc without wheels. sya order another store, product distinguished sm, a wheel g jg, pnjualnya admit dr factory defect. mgkn same reply. dr disabled pbrik lazy returns, because loss of postage, send a 2kg weight  pjuat morbidly conscientious, send brg disabilities. krna tau mls buyer returns, loss sis</td>\n",
              "      <td>1</td>\n",
              "      <td>negative</td>\n",
              "    </tr>\n",
              "    <tr>\n",
              "      <th>...</th>\n",
              "      <td>...</td>\n",
              "      <td>...</td>\n",
              "      <td>...</td>\n",
              "    </tr>\n",
              "    <tr>\n",
              "      <th>116692</th>\n",
              "      <td>size 3 / 4nya stands</td>\n",
              "      <td>3</td>\n",
              "      <td>neutral</td>\n",
              "    </tr>\n",
              "    <tr>\n",
              "      <th>116693</th>\n",
              "      <td>goods okay, but smpi² dh box all dented, brg very slow mandailing, mandailing trpaksa pushes himself, but not one seller.</td>\n",
              "      <td>3</td>\n",
              "      <td>neutral</td>\n",
              "    </tr>\n",
              "    <tr>\n",
              "      <th>116694</th>\n",
              "      <td>thank shop for lixi infant. wish shop is always expensive restaurant. increasingly crowded</td>\n",
              "      <td>5</td>\n",
              "      <td>positive</td>\n",
              "    </tr>\n",
              "    <tr>\n",
              "      <th>116695</th>\n",
              "      <td>good quality .. she wanted him all i ordered it in shop..delivered 1 day before my expected date of delivery. thank you.</td>\n",
              "      <td>5</td>\n",
              "      <td>positive</td>\n",
              "    </tr>\n",
              "    <tr>\n",
              "      <th>116696</th>\n",
              "      <td>brg smp with selmt ❤👍👍</td>\n",
              "      <td>5</td>\n",
              "      <td>positive</td>\n",
              "    </tr>\n",
              "  </tbody>\n",
              "</table>\n",
              "<p>116697 rows × 3 columns</p>\n",
              "</div>"
            ],
            "text/plain": [
              "                                                                                                                                                                                                                                                                                                                                                                            review  ...  sentiment\n",
              "0                                                                                                                                                                                                                                                                                                                                             pleasant transportation is very slow  ...   negative\n",
              "1                                                                                                                                                                                                                                                           like similar products, madam gie price'm bangettt sukaaaa dehhhhhh .........  @@ 85 (5 (6 (6) 6) 6) 6) 6) 8) 8) 8 (8 (  ...   positive\n",
              "2                                                                                                                                                                                                                                                                                                                                                  look like no original product.   ...   negative\n",
              "3                                                                                                                                                                                                       according to the statement, has a gift of balloons with beautiful colors, good product quality. transport service, fast delivery, good package to arrive, then the damage.  ...   positive\n",
              "4       defective products factory these blocks trolley order 2pcs, 1pc without wheels. sya order another store, product distinguished sm, a wheel g jg, pnjualnya admit dr factory defect. mgkn same reply. dr disabled pbrik lazy returns, because loss of postage, send a 2kg weight  pjuat morbidly conscientious, send brg disabilities. krna tau mls buyer returns, loss sis  ...   negative\n",
              "...                                                                                                                                                                                                                                                                                                                                                                            ...  ...        ...\n",
              "116692                                                                                                                                                                                                                                                                                                                                                        size 3 / 4nya stands  ...    neutral\n",
              "116693                                                                                                                                                                                                                                                   goods okay, but smpi² dh box all dented, brg very slow mandailing, mandailing trpaksa pushes himself, but not one seller.  ...    neutral\n",
              "116694                                                                                                                                                                                                                                                                                  thank shop for lixi infant. wish shop is always expensive restaurant. increasingly crowded  ...   positive\n",
              "116695                                                                                                                                                                                                                                                    good quality .. she wanted him all i ordered it in shop..delivered 1 day before my expected date of delivery. thank you.  ...   positive\n",
              "116696                                                                                                                                                                                                                                                                                                                                                      brg smp with selmt ❤👍👍  ...   positive\n",
              "\n",
              "[116697 rows x 3 columns]"
            ]
          },
          "metadata": {
            "tags": []
          },
          "execution_count": 24
        }
      ]
    },
    {
      "cell_type": "markdown",
      "metadata": {
        "id": "zStusJ8vn87f"
      },
      "source": [
        "### Creating data bunch from dataset"
      ]
    },
    {
      "cell_type": "code",
      "metadata": {
        "id": "V97lPQuY7XoJ"
      },
      "source": [
        "# Define block type\n",
        "blocks = (HF_TextBlock(hf_arch, hf_config, hf_tokenizer, hf_model), CategoryBlock)\n",
        " \n",
        "#Create datablock object\n",
        "dblock = DataBlock(blocks=blocks,  get_x=ColReader('review'), get_y=ColReader('sentiment'), splitter=TrainTestSplitter())"
      ],
      "execution_count": null,
      "outputs": []
    },
    {
      "cell_type": "code",
      "metadata": {
        "id": "WADxAsLjJghk"
      },
      "source": [
        "########### SLOW ############\n",
        "#Create data loader\n",
        "dls = dblock.dataloaders(df, bs=32)"
      ],
      "execution_count": null,
      "outputs": []
    },
    {
      "cell_type": "code",
      "metadata": {
        "id": "37uC_5SDZ3a4"
      },
      "source": [
        "#Save dataloader\n",
        "torch.save(dls, '/content/drive/MyDrive/dataloader3.pkl')"
      ],
      "execution_count": null,
      "outputs": []
    },
    {
      "cell_type": "code",
      "metadata": {
        "id": "mWMB8LeN9etH",
        "colab": {
          "base_uri": "https://localhost:8080/",
          "height": 298
        },
        "outputId": "6b352541-ffa1-47ad-ed7f-433da3bfc41d"
      },
      "source": [
        "dls.show_batch(dataloaders=dls, max_n=2)"
      ],
      "execution_count": null,
      "outputs": [
        {
          "output_type": "display_data",
          "data": {
            "text/html": [
              "<table border=\"1\" class=\"dataframe\">\n",
              "  <thead>\n",
              "    <tr style=\"text-align: right;\">\n",
              "      <th></th>\n",
              "      <th>text</th>\n",
              "      <th>category</th>\n",
              "    </tr>\n",
              "  </thead>\n",
              "  <tbody>\n",
              "    <tr>\n",
              "      <th>0</th>\n",
              "      <td>commodity normal, but the logistics can provide a range of services and sellers of cognitive poles apart, the logistics can the seller to confirm delivery to the latest six, so i marked at five thirty receipt sellers also agree, but the logistics for the day at noon to play for delivery they just can not say half past five delivery to three, and only three with twelve receipt, other times he was very busy, if not directly with the return back to the seller, or i have to go deliveryman pickup on delivery routes. since this point in time need this product so i spent a single train journey from the company over forty minutes to the shipping address on the order does not agree with a way of logistics and time.......... originally order to save time and deliver to the government was wasting my selection racquet more time, energy and oil money. 20, 191, 221, faithfully reflecting the actual purchasing situation believe the seller to provide logistics error message wasted time and money to the two stars, but the seller was evaluated two weeks, so the evaluation is to modify a star</td>\n",
              "      <td>negative</td>\n",
              "    </tr>\n",
              "    <tr>\n",
              "      <th>1</th>\n",
              "      <td>this stuff generally poor quality of the store, bought four products, each has a problem, there are obvious stains inflatable chair, completely come off ; fisher rainbow circle sets burrs will scratch hands ; there are rattles heavy musty. only more than rattle return, because it might affect child health, not for the children to play, but still without success, he said, has opened other reasons, but not unpack how serious musty find? in short, is the blacklist! can give a negative assessment, but should not be intimidating tone came full of messages, you really have to be careful!</td>\n",
              "      <td>negative</td>\n",
              "    </tr>\n",
              "  </tbody>\n",
              "</table>"
            ],
            "text/plain": [
              "<IPython.core.display.HTML object>"
            ]
          },
          "metadata": {
            "tags": []
          }
        }
      ]
    },
    {
      "cell_type": "code",
      "metadata": {
        "id": "XxctTlAdBe9H"
      },
      "source": [
        "#Define model\n",
        "model = HF_BaseModelWrapper(hf_model)"
      ],
      "execution_count": null,
      "outputs": []
    },
    {
      "cell_type": "code",
      "metadata": {
        "id": "unPCw2ebWkLN"
      },
      "source": [
        "#Define learner object\n",
        "learn = Learner(dls, \n",
        "                model,\n",
        "                opt_func=partial(Adam, decouple_wd=True),\n",
        "                loss_func=CrossEntropyLossFlat(),\n",
        "                metrics=[accuracy],\n",
        "                cbs=[HF_BaseModelCallback],\n",
        "                splitter=hf_splitter)"
      ],
      "execution_count": null,
      "outputs": []
    },
    {
      "cell_type": "code",
      "metadata": {
        "id": "vDeeZZFQWnG2"
      },
      "source": [
        "learn.create_opt() \n",
        "\n",
        "#Freeze layers\n",
        "learn.freeze()"
      ],
      "execution_count": null,
      "outputs": []
    },
    {
      "cell_type": "code",
      "metadata": {
        "id": "5s5nHfcHxr27"
      },
      "source": [
        "def find_appropriate_lr(model:Learner, lr_diff:int = 15, loss_threshold:float = .05, adjust_value:float = 1, plot:bool = False) -> float:\n",
        "    #Run the Learning Rate Finder\n",
        "    model.lr_find()\n",
        "    \n",
        "    #Get loss values and their corresponding gradients, and get lr values\n",
        "    losses = np.array(model.recorder.losses)\n",
        "    assert(lr_diff < len(losses))\n",
        "    loss_grad = np.gradient(losses)\n",
        "    lrs = model.recorder.lrs\n",
        "    \n",
        "    #Search for index in gradients where loss is lowest before the loss spike\n",
        "    #Initialize right and left idx using the lr_diff as a spacing unit\n",
        "    #Set the local min lr as -1 to signify if threshold is too low\n",
        "    r_idx = -1\n",
        "    l_idx = r_idx - lr_diff\n",
        "    while (l_idx >= -len(losses)) and (abs(loss_grad[r_idx] - loss_grad[l_idx]) > loss_threshold):\n",
        "        local_min_lr = lrs[l_idx]\n",
        "        r_idx -= 1\n",
        "        l_idx -= 1\n",
        "\n",
        "    lr_to_use = local_min_lr * adjust_value\n",
        "    \n",
        "    if plot:\n",
        "        # plots the gradients of the losses in respect to the learning rate change\n",
        "        plt.plot(loss_grad)\n",
        "        plt.plot(len(losses)+l_idx, loss_grad[l_idx],markersize=10,marker='o',color='red')\n",
        "        plt.ylabel(\"Loss\")\n",
        "        plt.xlabel(\"Index of LRs\")\n",
        "        plt.show()\n",
        "\n",
        "        plt.plot(np.log10(lrs), losses)\n",
        "        plt.ylabel(\"Loss\")\n",
        "        plt.xlabel(\"Log 10 Transform of Learning Rate\")\n",
        "        loss_coord = np.interp(np.log10(lr_to_use), np.log10(lrs), losses)\n",
        "        plt.plot(np.log10(lr_to_use), loss_coord, markersize=10,marker='o',color='red')\n",
        "        plt.show()\n",
        "        \n",
        "    return lr_to_use"
      ],
      "execution_count": null,
      "outputs": []
    },
    {
      "cell_type": "code",
      "metadata": {
        "colab": {
          "base_uri": "https://localhost:8080/",
          "height": 300
        },
        "id": "XQaTW_Ryxya6",
        "outputId": "2670dcd9-f900-4e99-a3da-6de8e1a26083"
      },
      "source": [
        "print(find_appropriate_lr(learn))"
      ],
      "execution_count": null,
      "outputs": [
        {
          "output_type": "display_data",
          "data": {
            "text/html": [
              ""
            ],
            "text/plain": [
              "<IPython.core.display.HTML object>"
            ]
          },
          "metadata": {
            "tags": []
          }
        },
        {
          "output_type": "stream",
          "text": [
            "0.00363078054770101\n"
          ],
          "name": "stdout"
        },
        {
          "output_type": "display_data",
          "data": {
            "image/png": "[encoded data removed]",
            "text/plain": [
              "<Figure size 432x288 with 1 Axes>"
            ]
          },
          "metadata": {
            "tags": [],
            "needs_background": "light"
          }
        }
      ]
    },
    {
      "cell_type": "code",
      "metadata": {
        "colab": {
          "base_uri": "https://localhost:8080/",
          "height": 80
        },
        "id": "vX64QaL3Wpov",
        "outputId": "16e35cad-3acf-4767-8bfd-d72eea09da1b"
      },
      "source": [
        "learn.fit_one_cycle(1, lr_max=1e-4)"
      ],
      "execution_count": null,
      "outputs": [
        {
          "output_type": "display_data",
          "data": {
            "text/html": [
              "<table border=\"1\" class=\"dataframe\">\n",
              "  <thead>\n",
              "    <tr style=\"text-align: left;\">\n",
              "      <th>epoch</th>\n",
              "      <th>train_loss</th>\n",
              "      <th>valid_loss</th>\n",
              "      <th>accuracy</th>\n",
              "      <th>time</th>\n",
              "    </tr>\n",
              "  </thead>\n",
              "  <tbody>\n",
              "    <tr>\n",
              "      <td>0</td>\n",
              "      <td>0.675701</td>\n",
              "      <td>0.676843</td>\n",
              "      <td>0.710883</td>\n",
              "      <td>11:28</td>\n",
              "    </tr>\n",
              "  </tbody>\n",
              "</table>"
            ],
            "text/plain": [
              "<IPython.core.display.HTML object>"
            ]
          },
          "metadata": {
            "tags": []
          }
        }
      ]
    },
    {
      "cell_type": "code",
      "metadata": {
        "colab": {
          "base_uri": "https://localhost:8080/",
          "height": 300
        },
        "id": "1ypuUUEc2Nrt",
        "outputId": "68bf190e-25bf-4b03-c59f-810c89687a2b"
      },
      "source": [
        "#Get appropriate learning rate again\n",
        "print(find_appropriate_lr(learn))"
      ],
      "execution_count": null,
      "outputs": [
        {
          "output_type": "display_data",
          "data": {
            "text/html": [
              ""
            ],
            "text/plain": [
              "<IPython.core.display.HTML object>"
            ]
          },
          "metadata": {
            "tags": []
          }
        },
        {
          "output_type": "stream",
          "text": [
            "0.004365158322401656\n"
          ],
          "name": "stdout"
        },
        {
          "output_type": "display_data",
          "data": {
            "image/png": "[encoded data removed]",
            "text/plain": [
              "<Figure size 432x288 with 1 Axes>"
            ]
          },
          "metadata": {
            "tags": [],
            "needs_background": "light"
          }
        }
      ]
    },
    {
      "cell_type": "code",
      "metadata": {
        "colab": {
          "base_uri": "https://localhost:8080/"
        },
        "id": "V4mZueY44G5W",
        "outputId": "e5b6a051-9b5c-452f-cfdd-23afd0e73d85"
      },
      "source": [
        "learn.save('/content/drive/MyDrive/NLP_model4.pkl')"
      ],
      "execution_count": null,
      "outputs": [
        {
          "output_type": "execute_result",
          "data": {
            "text/plain": [
              "Path('/content/drive/MyDrive/NLP_model4.pkl.pth')"
            ]
          },
          "metadata": {
            "tags": []
          },
          "execution_count": 47
        }
      ]
    },
    {
      "cell_type": "code",
      "metadata": {
        "id": "ZaEFutLS3LSe"
      },
      "source": [
        "#Unfreeze all layers for training\n",
        "learn.unfreeze()"
      ],
      "execution_count": null,
      "outputs": []
    },
    {
      "cell_type": "code",
      "metadata": {
        "colab": {
          "base_uri": "https://localhost:8080/",
          "height": 321
        },
        "id": "hJorhdcW3Na4",
        "outputId": "0ad99f78-0e1a-4c82-e2b2-fe85a339f3e2"
      },
      "source": [
        "#Train again\n",
        "learn.fit_one_cycle(7, lr_max=slice(1e-7, 1e-4))"
      ],
      "execution_count": null,
      "outputs": [
        {
          "output_type": "display_data",
          "data": {
            "text/html": [
              "\n",
              "    <div>\n",
              "        <style>\n",
              "            /* Turns off some styling */\n",
              "            progress {\n",
              "                /* gets rid of default border in Firefox and Opera. */\n",
              "                border: none;\n",
              "                /* Needs to be in here for Safari polyfill so background images work as expected. */\n",
              "                background-size: auto;\n",
              "            }\n",
              "            .progress-bar-interrupted, .progress-bar-interrupted::-webkit-progress-bar {\n",
              "                background: #F44336;\n",
              "            }\n",
              "        </style>\n",
              "      <progress value='5' class='' max='7' style='width:300px; height:20px; vertical-align: middle;'></progress>\n",
              "      71.43% [5/7 1:26:27<34:35]\n",
              "    </div>\n",
              "    \n",
              "<table border=\"1\" class=\"dataframe\">\n",
              "  <thead>\n",
              "    <tr style=\"text-align: left;\">\n",
              "      <th>epoch</th>\n",
              "      <th>train_loss</th>\n",
              "      <th>valid_loss</th>\n",
              "      <th>accuracy</th>\n",
              "      <th>time</th>\n",
              "    </tr>\n",
              "  </thead>\n",
              "  <tbody>\n",
              "    <tr>\n",
              "      <td>0</td>\n",
              "      <td>0.683308</td>\n",
              "      <td>0.669959</td>\n",
              "      <td>0.714439</td>\n",
              "      <td>17:20</td>\n",
              "    </tr>\n",
              "    <tr>\n",
              "      <td>1</td>\n",
              "      <td>0.672856</td>\n",
              "      <td>0.652645</td>\n",
              "      <td>0.724250</td>\n",
              "      <td>17:17</td>\n",
              "    </tr>\n",
              "    <tr>\n",
              "      <td>2</td>\n",
              "      <td>0.662773</td>\n",
              "      <td>0.639496</td>\n",
              "      <td>0.728149</td>\n",
              "      <td>17:17</td>\n",
              "    </tr>\n",
              "    <tr>\n",
              "      <td>3</td>\n",
              "      <td>0.672994</td>\n",
              "      <td>0.632960</td>\n",
              "      <td>0.731705</td>\n",
              "      <td>17:15</td>\n",
              "    </tr>\n",
              "    <tr>\n",
              "      <td>4</td>\n",
              "      <td>0.623852</td>\n",
              "      <td>0.629860</td>\n",
              "      <td>0.733376</td>\n",
              "      <td>17:17</td>\n",
              "    </tr>\n",
              "  </tbody>\n",
              "</table><p>\n",
              "\n",
              "    <div>\n",
              "        <style>\n",
              "            /* Turns off some styling */\n",
              "            progress {\n",
              "                /* gets rid of default border in Firefox and Opera. */\n",
              "                border: none;\n",
              "                /* Needs to be in here for Safari polyfill so background images work as expected. */\n",
              "                background-size: auto;\n",
              "            }\n",
              "            .progress-bar-interrupted, .progress-bar-interrupted::-webkit-progress-bar {\n",
              "                background: #F44336;\n",
              "            }\n",
              "        </style>\n",
              "      <progress value='380' class='' max='2917' style='width:300px; height:20px; vertical-align: middle;'></progress>\n",
              "      13.03% [380/2917 02:09<14:25 0.6365]\n",
              "    </div>\n",
              "    "
            ],
            "text/plain": [
              "<IPython.core.display.HTML object>"
            ]
          },
          "metadata": {
            "tags": []
          }
        },
        {
          "output_type": "stream",
          "text": [
            "Buffered data was truncated after reaching the output size limit."
          ],
          "name": "stdout"
        }
      ]
    },
    {
      "cell_type": "code",
      "metadata": {
        "id": "hoUfOp7M6HM-"
      },
      "source": [
        "learn.save('/content/drive/MyDrive/NLP_model4-1.pkl')"
      ],
      "execution_count": null,
      "outputs": []
    },
    {
      "cell_type": "markdown",
      "metadata": {
        "id": "h0nSNSXEtinl"
      },
      "source": [
        "## Result"
      ]
    },
    {
      "cell_type": "code",
      "metadata": {
        "colab": {
          "base_uri": "https://localhost:8080/",
          "height": 417
        },
        "id": "WbTft_esBnTl",
        "outputId": "9d2fdcde-6064-4831-9efc-c277660aa5d0"
      },
      "source": [
        "#Get some predicitons\n",
        "learn.show_results(learner=learn, dl=dls.valid, max_n=2)"
      ],
      "execution_count": null,
      "outputs": [
        {
          "output_type": "display_data",
          "data": {
            "text/html": [
              ""
            ],
            "text/plain": [
              "<IPython.core.display.HTML object>"
            ]
          },
          "metadata": {
            "tags": []
          }
        },
        {
          "output_type": "display_data",
          "data": {
            "text/html": [
              "<table border=\"1\" class=\"dataframe\">\n",
              "  <thead>\n",
              "    <tr style=\"text-align: right;\">\n",
              "      <th></th>\n",
              "      <th>text</th>\n",
              "      <th>category</th>\n",
              "      <th>target</th>\n",
              "    </tr>\n",
              "  </thead>\n",
              "  <tbody>\n",
              "    <tr>\n",
              "      <th>0</th>\n",
              "      <td>even if it's sent from abroad, a very good compared to the price. color meets shape i recommend this restaurant to me. i'm like, see good good good good good good good good good good good escorts inspiration and a preceding preceding a preceding great inspiration and great great great great great great inspiration and great great great great just great inspiration good good good good good good ea escorts escorts triggering single well. good good good good good good good inspiration good good good good good just a great inspiration and great great great great great great great inspiration and great great great great great great great great great great inspiration and a great inspiration and a great escorts escorts great great inspiration and great. great inspiration and great great great great inspiration and great daii good escorts inspiration and a great inspiration and great great great great great great inspiration and a great inspiration and great great great great great inspiration good just good good good good good good good good good good good good good good. good good good good good good good good good good phuket, phuket, phuket, good good good good good good good good good good good good good good good good inspiration.</td>\n",
              "      <td>neutral</td>\n",
              "      <td>positive</td>\n",
              "    </tr>\n",
              "    <tr>\n",
              "      <th>1</th>\n",
              "      <td>the boss service attitude of tolerance, i ordered february 20, asked a few numbers can ship, ship owners answer no. 23 uniform, i wait until february 28 japanese goods have not been to, ask the boss learned that only 26 shipments, i would stick with him the last time chats, not the no. 23 uniform ship it? he answer is no. 23 in accordance with a unified single ship, of course, as a consumer, i would say that i knew to complain about so late shipments, i don't buy, but also to inform the boss will not get the goods after the evaluation to be too high, the boss even domineering back to say not wait to cancel the order, i always emphasize that i don't return, and other goods to the boss even unauthorized interception of goods, i want to cancel the order, or can not get the goods, not money back, my whole dumbfounded, helpless next only to cancel the order, so service quality is not, totally does not allow customers complain! because only entrained 6 photos, so the chat is not very complete. above is entirely my personal feelings if i have offended, vexed.</td>\n",
              "      <td>negative</td>\n",
              "      <td>negative</td>\n",
              "    </tr>\n",
              "  </tbody>\n",
              "</table>"
            ],
            "text/plain": [
              "<IPython.core.display.HTML object>"
            ]
          },
          "metadata": {
            "tags": []
          }
        }
      ]
    },
    {
      "cell_type": "code",
      "metadata": {
        "colab": {
          "base_uri": "https://localhost:8080/"
        },
        "id": "4ANdYoXAftbA",
        "outputId": "cddb61fc-b5a1-4e50-93b4-6c0c4304ec61"
      },
      "source": [
        "#Save the model\n",
        "learn.save('/content/drive/MyDrive/NLP_model4.pkl')"
      ],
      "execution_count": null,
      "outputs": [
        {
          "output_type": "execute_result",
          "data": {
            "text/plain": [
              "Path('/content/drive/MyDrive/NLP_model2.pkl.pth')"
            ]
          },
          "metadata": {
            "tags": []
          },
          "execution_count": 23
        }
      ]
    },
    {
      "cell_type": "code",
      "metadata": {
        "colab": {
          "base_uri": "https://localhost:8080/",
          "height": 17
        },
        "id": "fUoT27eJZfvC",
        "outputId": "954fe653-ae35-42a9-d32b-300c007e9e72"
      },
      "source": [
        "#Get predicitions for validation set\n",
        "preds = learn.get_preds(ds_idx=1, with_decoded=True, act=None)"
      ],
      "execution_count": null,
      "outputs": [
        {
          "output_type": "display_data",
          "data": {
            "text/html": [
              ""
            ],
            "text/plain": [
              "<IPython.core.display.HTML object>"
            ]
          },
          "metadata": {
            "tags": []
          }
        }
      ]
    },
    {
      "cell_type": "code",
      "metadata": {
        "id": "JgVhFtBt0Hxs"
      },
      "source": [
        "#Turn tensor into a list of ints\n",
        "y_preds = list(map(int, preds[1]))\n",
        "y_true = list(map(int, preds[2]))"
      ],
      "execution_count": null,
      "outputs": []
    },
    {
      "cell_type": "code",
      "metadata": {
        "colab": {
          "base_uri": "https://localhost:8080/"
        },
        "id": "ygeYGoechIxx",
        "outputId": "3a4b7c81-d8b4-45e2-f58c-91a3f8e8f134"
      },
      "source": [
        "predsNonDF[0]"
      ],
      "execution_count": null,
      "outputs": [
        {
          "output_type": "execute_result",
          "data": {
            "text/plain": [
              "tensor([[0.0044, 0.1044, 0.8912],\n",
              "        [0.0037, 0.0419, 0.9544],\n",
              "        [0.0013, 0.0204, 0.9783],\n",
              "        ...,\n",
              "        [0.0332, 0.2414, 0.7254],\n",
              "        [0.6797, 0.2660, 0.0543],\n",
              "        [0.1645, 0.1879, 0.6476]])"
            ]
          },
          "metadata": {
            "tags": []
          },
          "execution_count": 26
        }
      ]
    },
    {
      "cell_type": "code",
      "metadata": {
        "colab": {
          "base_uri": "https://localhost:8080/",
          "height": 606
        },
        "id": "a-1zxxoA1TET",
        "outputId": "42a37788-9385-4454-ede4-7297f63504bf"
      },
      "source": [
        "#Plotting consufion matrix\n",
        "import numpy as np\n",
        "import pandas as pd\n",
        "import matplotlib.pyplot as plt\n",
        "%matplotlib inline\n",
        "import seaborn as sns\n",
        "from sklearn.metrics import confusion_matrix\n",
        "\n",
        "def plot_cm(y_true, y_pred, figsize=(10,10)):\n",
        "    cm = confusion_matrix(y_true, y_pred)\n",
        "    cm_sum = np.sum(cm, axis=1, keepdims=True)\n",
        "    cm_perc = cm / cm_sum.astype(float) * 100\n",
        "    annot = np.empty_like(cm).astype(str)\n",
        "    nrows, ncols = cm.shape\n",
        "    for i in range(nrows):\n",
        "        for j in range(ncols):\n",
        "            c = cm[i, j]\n",
        "            p = cm_perc[i, j]\n",
        "            if i == j:\n",
        "                s = cm_sum[i]\n",
        "                annot[i, j] = '%.1f%%\\n%d/%d' % (p, c, s)\n",
        "            elif c == 0:\n",
        "                annot[i, j] = ''\n",
        "            else:\n",
        "                annot[i, j] = '%.1f%%\\n%d' % (p, c)\n",
        "    cm = pd.DataFrame(cm, index=np.unique(y_true), columns=np.unique(y_true))\n",
        "    cm.index.name = 'Actual'\n",
        "    cm.columns.name = 'Predicted'\n",
        "    fig, ax = plt.subplots(figsize=figsize)\n",
        "    sns.heatmap(cm, xticklabels=['negative','neutral','positive'], yticklabels=['negative','neutral','positive'], cmap= \"Reds\", annot=annot, fmt='', ax=ax)\n",
        "    \n",
        "plot_cm(y_true, y_preds)"
      ],
      "execution_count": null,
      "outputs": [
        {
          "output_type": "display_data",
          "data": {
            "image/png": "[encoded data removed]",
            "text/plain": [
              "<Figure size 720x720 with 2 Axes>"
            ]
          },
          "metadata": {
            "tags": [],
            "needs_background": "light"
          }
        }
      ]
    },
    {
      "cell_type": "markdown",
      "metadata": {
        "id": "57lr5UKAL2jy"
      },
      "source": [
        "### Some Examples"
      ]
    },
    {
      "cell_type": "code",
      "metadata": {
        "colab": {
          "base_uri": "https://localhost:8080/"
        },
        "id": "TN1kE7GXYBBe",
        "outputId": "f466a9b4-de68-4361-ca1f-4b5228a3b280"
      },
      "source": [
        "learn.blurr_predict(\"I didn't like the product. Cheap quality\")"
      ],
      "execution_count": null,
      "outputs": [
        {
          "output_type": "execute_result",
          "data": {
            "text/plain": [
              "[(('negative',), (#1) [tensor(0)], (#1) [tensor([0.8438, 0.1140, 0.0422])])]"
            ]
          },
          "metadata": {
            "tags": []
          },
          "execution_count": 67
        }
      ]
    },
    {
      "cell_type": "code",
      "metadata": {
        "colab": {
          "base_uri": "https://localhost:8080/"
        },
        "id": "NgN5Anr8mOq-",
        "outputId": "7f088b76-6de1-4653-f117-699a1c0e1650"
      },
      "source": [
        "learn.blurr_predict(\"Cheap price. Fast delivery\")"
      ],
      "execution_count": null,
      "outputs": [
        {
          "output_type": "execute_result",
          "data": {
            "text/plain": [
              "[(('positive',), (#1) [tensor(2)], (#1) [tensor([0.0152, 0.1328, 0.8519])])]"
            ]
          },
          "metadata": {
            "tags": []
          },
          "execution_count": 68
        }
      ]
    },
    {
      "cell_type": "code",
      "metadata": {
        "colab": {
          "base_uri": "https://localhost:8080/"
        },
        "id": "zZgu1wpomVKx",
        "outputId": "9e6a7a7b-62ce-4875-bd2a-7454084dc333"
      },
      "source": [
        "learn.blurr_predict(\"Seems so-so\")"
      ],
      "execution_count": null,
      "outputs": [
        {
          "output_type": "execute_result",
          "data": {
            "text/plain": [
              "[(('neutral',), (#1) [tensor(1)], (#1) [tensor([0.2097, 0.4344, 0.3559])])]"
            ]
          },
          "metadata": {
            "tags": []
          },
          "execution_count": 23
        }
      ]
    },
    {
      "cell_type": "code",
      "metadata": {
        "colab": {
          "base_uri": "https://localhost:8080/"
        },
        "id": "mJQmXXTntFCx",
        "outputId": "825797b1-99c5-46c8-cd91-9f1697ffe009"
      },
      "source": [
        "learn.blurr_predict(\"Feels cheap\")"
      ],
      "execution_count": null,
      "outputs": [
        {
          "output_type": "execute_result",
          "data": {
            "text/plain": [
              "[(('negative',), (#1) [tensor(0)], (#1) [tensor([0.3620, 0.2779, 0.3601])])]"
            ]
          },
          "metadata": {
            "tags": []
          },
          "execution_count": 78
        }
      ]
    },
    {
      "cell_type": "markdown",
      "metadata": {
        "id": "mOl-hU_ILjBX"
      },
      "source": [
        "## Scrape Shopee reviews"
      ]
    },
    {
      "cell_type": "code",
      "metadata": {
        "id": "Zagayn1tLlBd"
      },
      "source": [
        "#Reference: https://stackoverflow.com/a/62485956/8061030\n",
        "import re\n",
        "import json\n",
        "import requests\n",
        "\n",
        "url = 'https://shopee.com.my/Xiaomi-Redmi-9-(3GB-32GB)-Global-Version-1-Year-Local-Official-Warranty--i.139641550.5936664098'\n",
        "\n",
        "r = re.search(r'i\\.(\\d+)\\.(\\d+)', url)\n",
        "shop_id, item_id = r[1], r[2]\n",
        "ratings_url = 'https://shopee.co.id/api/v2/item/get_ratings?filter=0&flag=1&itemid={item_id}&limit=20&offset={offset}&shopid={shop_id}&type=0'\n",
        "\n",
        "offset = 0\n",
        "\n",
        "scraped_df = pd.DataFrame(columns=['review', 'rating'])\n",
        "\n",
        "while True:\n",
        "\n",
        "    data = requests.get(ratings_url.format(shop_id=shop_id, item_id=item_id, offset=offset)).json()\n",
        "\n",
        "    i = 1\n",
        "    for i, rating in enumerate(data['data']['ratings'], 1):\n",
        "        # print(rating['author_username'])\n",
        "        scraped_df.loc[len(scraped_df)] = [rating['comment'], rating['rating_star']]\n",
        "        # print('-' * 80)\n",
        "\n",
        "    if i % 20:\n",
        "        break\n",
        "\n",
        "    offset += 20"
      ],
      "execution_count": null,
      "outputs": []
    },
    {
      "cell_type": "code",
      "metadata": {
        "id": "3FmoOc_kmTP4"
      },
      "source": [
        "scraped_df[\"sentiment\"] = scraped_df[\"rating\"].apply(lambda score: scoretosent(score))"
      ],
      "execution_count": null,
      "outputs": []
    },
    {
      "cell_type": "code",
      "metadata": {
        "colab": {
          "base_uri": "https://localhost:8080/",
          "height": 521
        },
        "id": "9EYQb3x8Lqcz",
        "outputId": "6fe67ada-5c11-4253-bcb7-3a11659dd2a0"
      },
      "source": [
        "scraped_df"
      ],
      "execution_count": null,
      "outputs": [
        {
          "output_type": "execute_result",
          "data": {
            "text/html": [
              "<div>\n",
              "<style scoped>\n",
              "    .dataframe tbody tr th:only-of-type {\n",
              "        vertical-align: middle;\n",
              "    }\n",
              "\n",
              "    .dataframe tbody tr th {\n",
              "        vertical-align: top;\n",
              "    }\n",
              "\n",
              "    .dataframe thead th {\n",
              "        text-align: right;\n",
              "    }\n",
              "</style>\n",
              "<table border=\"1\" class=\"dataframe\">\n",
              "  <thead>\n",
              "    <tr style=\"text-align: right;\">\n",
              "      <th></th>\n",
              "      <th>review</th>\n",
              "      <th>rating</th>\n",
              "      <th>sentiment</th>\n",
              "    </tr>\n",
              "  </thead>\n",
              "  <tbody>\n",
              "    <tr>\n",
              "      <th>0</th>\n",
              "      <td>Seminggu je da sampai fuhhh terbaikla seller n courier masheeeh memang nak guna urgent lepas hp rosak nak2 ade online classes ni. Tepat2 sampai semalam. Korang jangan risau, telefon ni 100% authentic. Parcel takde rosak langsung, takde calar pun fresh bethol rasa macam beli f2f dengan tauke kedai❤</td>\n",
              "      <td>5</td>\n",
              "      <td>positive</td>\n",
              "    </tr>\n",
              "    <tr>\n",
              "      <th>1</th>\n",
              "      <td>Good good good good good good Good good good good good good Good good good good good good Good good good good good good Good good good good good good Good good good good good good Good good good good good good Good good good good good good Good good good good good good Good good good good good good</td>\n",
              "      <td>5</td>\n",
              "      <td>positive</td>\n",
              "    </tr>\n",
              "    <tr>\n",
              "      <th>2</th>\n",
              "      <td>Barang sampai cepat dan kemas. Barang tiada yang defect.....Quality pun sangat baik....\\npada harga yang sangatlah berpatutan jika dibandingkan dengan kedai-kedai lain yang menjualnya.....\\nGood product quality\\nGood Value for money\\nFast delivery \\nExcellent service by sellerr</td>\n",
              "      <td>5</td>\n",
              "      <td>positive</td>\n",
              "    </tr>\n",
              "    <tr>\n",
              "      <th>3</th>\n",
              "      <td>Good product quality\\nGood value for money\\nVery very very fast delivery\\nExcellent service by seller\\nShipping take 5days only from china..very very impressive\\n👍🏻👍🏻👍🏻👍🏻👍🏻</td>\n",
              "      <td>5</td>\n",
              "      <td>positive</td>\n",
              "    </tr>\n",
              "    <tr>\n",
              "      <th>4</th>\n",
              "      <td>Walaoo daebak 💓💓 took a week only to reach here kudos to seller. Hope it working well. Video and picture not related but phone is good received 💅</td>\n",
              "      <td>5</td>\n",
              "      <td>positive</td>\n",
              "    </tr>\n",
              "    <tr>\n",
              "      <th>...</th>\n",
              "      <td>...</td>\n",
              "      <td>...</td>\n",
              "      <td>...</td>\n",
              "    </tr>\n",
              "    <tr>\n",
              "      <th>950</th>\n",
              "      <td>Okay good product...........Okay good product...........Okay good product...........</td>\n",
              "      <td>5</td>\n",
              "      <td>positive</td>\n",
              "    </tr>\n",
              "    <tr>\n",
              "      <th>951</th>\n",
              "      <td>Im satisfy with this shop. The delivery quite fast ha. I have used it about 2 weeks?? And it is the best choice i ever made👍🏻👍🏻👍🏻👍🏻</td>\n",
              "      <td>5</td>\n",
              "      <td>positive</td>\n",
              "    </tr>\n",
              "    <tr>\n",
              "      <th>952</th>\n",
              "      <td>Terbaik terbaik terbaik terbaik terbaik terbaik terbaik..</td>\n",
              "      <td>5</td>\n",
              "      <td>positive</td>\n",
              "    </tr>\n",
              "    <tr>\n",
              "      <th>953</th>\n",
              "      <td>Everything is good... Everything is good... Everything is good... Everything is good... Everything is good... Everything is good... Everything is good... Everything is good... Everything is good... Everything is good... Everything is good... Everything is good... \\n👍🏻👍🏻👍🏻👍🏻👍🏻👍🏻👍🏻👍🏻👍</td>\n",
              "      <td>5</td>\n",
              "      <td>positive</td>\n",
              "    </tr>\n",
              "    <tr>\n",
              "      <th>954</th>\n",
              "      <td>Good good Good good good good Good good \\n\\nGood good Good good good good Good good \\n\\nGood good Good good good good Good good</td>\n",
              "      <td>5</td>\n",
              "      <td>positive</td>\n",
              "    </tr>\n",
              "  </tbody>\n",
              "</table>\n",
              "<p>955 rows × 3 columns</p>\n",
              "</div>"
            ],
            "text/plain": [
              "                                                                                                                                                                                                                                                                                                           review  ... sentiment\n",
              "0      Seminggu je da sampai fuhhh terbaikla seller n courier masheeeh memang nak guna urgent lepas hp rosak nak2 ade online classes ni. Tepat2 sampai semalam. Korang jangan risau, telefon ni 100% authentic. Parcel takde rosak langsung, takde calar pun fresh bethol rasa macam beli f2f dengan tauke kedai❤  ...  positive\n",
              "1    Good good good good good good Good good good good good good Good good good good good good Good good good good good good Good good good good good good Good good good good good good Good good good good good good Good good good good good good Good good good good good good Good good good good good good   ...  positive\n",
              "2                          Barang sampai cepat dan kemas. Barang tiada yang defect.....Quality pun sangat baik....\\npada harga yang sangatlah berpatutan jika dibandingkan dengan kedai-kedai lain yang menjualnya.....\\nGood product quality\\nGood Value for money\\nFast delivery \\nExcellent service by sellerr  ...  positive\n",
              "3                                                                                                                                    Good product quality\\nGood value for money\\nVery very very fast delivery\\nExcellent service by seller\\nShipping take 5days only from china..very very impressive\\n👍🏻👍🏻👍🏻👍🏻👍🏻  ...  positive\n",
              "4                                                                                                                                                               Walaoo daebak 💓💓 took a week only to reach here kudos to seller. Hope it working well. Video and picture not related but phone is good received 💅  ...  positive\n",
              "..                                                                                                                                                                                                                                                                                                            ...  ...       ...\n",
              "950                                                                                                                                                                                                                          Okay good product...........Okay good product...........Okay good product...........  ...  positive\n",
              "951                                                                                                                                                                           Im satisfy with this shop. The delivery quite fast ha. I have used it about 2 weeks?? And it is the best choice i ever made👍🏻👍🏻👍🏻👍🏻  ...  positive\n",
              "952                                                                                                                                                                                                                                                     Terbaik terbaik terbaik terbaik terbaik terbaik terbaik..  ...  positive\n",
              "953                   Everything is good... Everything is good... Everything is good... Everything is good... Everything is good... Everything is good... Everything is good... Everything is good... Everything is good... Everything is good... Everything is good... Everything is good... \\n👍🏻👍🏻👍🏻👍🏻👍🏻👍🏻👍🏻👍🏻👍  ...  positive\n",
              "954                                                                                                                                                                              Good good Good good good good Good good \\n\\nGood good Good good good good Good good \\n\\nGood good Good good good good Good good   ...  positive\n",
              "\n",
              "[955 rows x 3 columns]"
            ]
          },
          "metadata": {
            "tags": []
          },
          "execution_count": 62
        }
      ]
    },
    {
      "cell_type": "code",
      "metadata": {
        "id": "PDtZGuBsmwLm"
      },
      "source": [
        "#Shuffle rows\n",
        "scraped_df = scraped_df.sample(frac=1).reset_index(drop=True)"
      ],
      "execution_count": null,
      "outputs": []
    },
    {
      "cell_type": "code",
      "metadata": {
        "colab": {
          "base_uri": "https://localhost:8080/",
          "height": 359
        },
        "id": "8QliqFoRMoaU",
        "outputId": "e1bc4e16-642f-4fca-8b06-4a970f44e781"
      },
      "source": [
        "#Show predicitons\n",
        "learnv3.show_results(learner=learn, dl=dls.test_dl(scraped_df, with_labels=True), max_n=10, trunc_at=100)"
      ],
      "execution_count": null,
      "outputs": [
        {
          "output_type": "display_data",
          "data": {
            "text/html": [
              ""
            ],
            "text/plain": [
              "<IPython.core.display.HTML object>"
            ]
          },
          "metadata": {
            "tags": []
          }
        },
        {
          "output_type": "display_data",
          "data": {
            "text/html": [
              "<table border=\"1\" class=\"dataframe\">\n",
              "  <thead>\n",
              "    <tr style=\"text-align: right;\">\n",
              "      <th></th>\n",
              "      <th>text</th>\n",
              "      <th>category</th>\n",
              "      <th>target</th>\n",
              "    </tr>\n",
              "  </thead>\n",
              "  <tbody>\n",
              "    <tr>\n",
              "      <th>0</th>\n",
              "      <td>phone da sampai semalam, not bad cepat jugak seminggu dah sampai. cek semua complete dan dalam keada</td>\n",
              "      <td>positive</td>\n",
              "      <td>positive</td>\n",
              "    </tr>\n",
              "    <tr>\n",
              "      <th>1</th>\n",
              "      <td>alhamdulillah subhanallah maha suci allah alhamdulillah subhanallah maha suci allah alhamdulillah su</td>\n",
              "      <td>positive</td>\n",
              "      <td>positive</td>\n",
              "    </tr>\n",
              "    <tr>\n",
              "      <th>2</th>\n",
              "      <td>alhamdulilah. pakej smpi di kk dalam masa 11 hari shj. cepat dlm tempoh pkpp ni. fon original &amp; dite</td>\n",
              "      <td>positive</td>\n",
              "      <td>positive</td>\n",
              "    </tr>\n",
              "    <tr>\n",
              "      <th>3</th>\n",
              "      <td>terimah kaseh tapi lambat terimah kaseh tapi lambat terimah kaseh tapi lambat terimah kaseh tapi lam</td>\n",
              "      <td>positive</td>\n",
              "      <td>positive</td>\n",
              "    </tr>\n",
              "    <tr>\n",
              "      <th>4</th>\n",
              "      <td>order pada 19 / 06 / 2020, terima pada 29 / 06 / 2020. boleh tahan laju walaupun dari china. terima</td>\n",
              "      <td>positive</td>\n",
              "      <td>positive</td>\n",
              "    </tr>\n",
              "    <tr>\n",
              "      <th>5</th>\n",
              "      <td>brg da sampai!!! penghantaran sangat cepat even dri luar negara... everything ok.... fon nice gila!!</td>\n",
              "      <td>positive</td>\n",
              "      <td>positive</td>\n",
              "    </tr>\n",
              "    <tr>\n",
              "      <th>6</th>\n",
              "      <td>good good good good good good good good good good good good good good good good good good good good</td>\n",
              "      <td>positive</td>\n",
              "      <td>positive</td>\n",
              "    </tr>\n",
              "    <tr>\n",
              "      <th>7</th>\n",
              "      <td>dah sampai kira ok la oversea tak ada la lama sangat, apa2 pun puas hati... dah sampai kira ok la ov</td>\n",
              "      <td>positive</td>\n",
              "      <td>positive</td>\n",
              "    </tr>\n",
              "    <tr>\n",
              "      <th>8</th>\n",
              "      <td>terbaik penghantaran daripada china.. sampai jugak terbaik sampai... terbaik penghantaran daripada c</td>\n",
              "      <td>positive</td>\n",
              "      <td>neutral</td>\n",
              "    </tr>\n",
              "    <tr>\n",
              "      <th>9</th>\n",
              "      <td>took 9 days to arrive from china. phone is superb for the price. definitely worth it to pay a bit mo</td>\n",
              "      <td>positive</td>\n",
              "      <td>positive</td>\n",
              "    </tr>\n",
              "  </tbody>\n",
              "</table>"
            ],
            "text/plain": [
              "<IPython.core.display.HTML object>"
            ]
          },
          "metadata": {
            "tags": []
          }
        }
      ]
    },
    {
      "cell_type": "code",
      "metadata": {
        "id": "Zzdk6DILOQHH"
      },
      "source": [
        "scraped_df.to_csv('/content/drive/MyDrive/scraped_reviews.csv')"
      ],
      "execution_count": null,
      "outputs": []
    },
    {
      "cell_type": "code",
      "metadata": {
        "id": "WJBIjMUElOzl"
      },
      "source": [
        "scraped_df = pd.read_csv('/content/drive/MyDrive/scraped_reviews.csv')"
      ],
      "execution_count": null,
      "outputs": []
    },
    {
      "cell_type": "markdown",
      "metadata": {
        "id": "6sFQGuT0tlU0"
      },
      "source": [
        "## Testing the models"
      ]
    },
    {
      "cell_type": "code",
      "metadata": {
        "id": "ZHgbLAX0qR0C"
      },
      "source": [
        "#Load the first dataloader\n",
        "with open('/content/drive/MyDrive/dataloader.pkl', 'rb') as f: \n",
        "  dlsv1 = torch.load(f)"
      ],
      "execution_count": null,
      "outputs": []
    },
    {
      "cell_type": "code",
      "metadata": {
        "id": "bptDfa28hynV"
      },
      "source": [
        "#Load the first model\n",
        "learnv1 = learn.load(file='/content/drive/MyDrive/NLP_model.pkl')"
      ],
      "execution_count": null,
      "outputs": []
    },
    {
      "cell_type": "code",
      "metadata": {
        "colab": {
          "base_uri": "https://localhost:8080/",
          "height": 34
        },
        "id": "HEzWzh9wTLXS",
        "outputId": "f71ab082-2198-4627-8973-227f6b7f3de3"
      },
      "source": [
        "learn.validate(ds_idx=0)"
      ],
      "execution_count": null,
      "outputs": [
        {
          "output_type": "display_data",
          "data": {
            "text/html": [
              ""
            ],
            "text/plain": [
              "<IPython.core.display.HTML object>"
            ]
          },
          "metadata": {
            "tags": []
          }
        },
        {
          "output_type": "execute_result",
          "data": {
            "text/plain": [
              "(#2) [0.5403690338134766,0.7740293145179749]"
            ]
          },
          "metadata": {
            "tags": []
          },
          "execution_count": 33
        }
      ]
    },
    {
      "cell_type": "code",
      "metadata": {
        "colab": {
          "base_uri": "https://localhost:8080/",
          "height": 34
        },
        "id": "jWXLAN63twuo",
        "outputId": "41775bcc-acca-465d-c8eb-329c478e149f"
      },
      "source": [
        "learnv1.validate(ds_idx=1)"
      ],
      "execution_count": null,
      "outputs": [
        {
          "output_type": "display_data",
          "data": {
            "text/html": [
              ""
            ],
            "text/plain": [
              "<IPython.core.display.HTML object>"
            ]
          },
          "metadata": {
            "tags": []
          }
        },
        {
          "output_type": "execute_result",
          "data": {
            "text/plain": [
              "(#2) [0.5535681247711182,0.7685182094573975]"
            ]
          },
          "metadata": {
            "tags": []
          },
          "execution_count": 35
        }
      ]
    },
    {
      "cell_type": "code",
      "metadata": {
        "id": "zgjG4d1_tP0S"
      },
      "source": [
        "learnv1 = learn"
      ],
      "execution_count": null,
      "outputs": []
    },
    {
      "cell_type": "code",
      "metadata": {
        "id": "VhVnApcnuUY7"
      },
      "source": [
        "#Load the second dataloader\n",
        "with open('/content/drive/MyDrive/dataloader2.pkl', 'rb') as f: \n",
        "  dlsv2 = torch.load(f)"
      ],
      "execution_count": null,
      "outputs": []
    },
    {
      "cell_type": "code",
      "metadata": {
        "id": "T3TJZzDwuj5q"
      },
      "source": [
        "#Define second learner object\n",
        "learnv2 = Learner(dlsv2, \n",
        "                model,\n",
        "                opt_func=partial(Adam, decouple_wd=True),\n",
        "                loss_func=CrossEntropyLossFlat(),\n",
        "                metrics=[accuracy],\n",
        "                cbs=[HF_BaseModelCallback],\n",
        "                splitter=hf_splitter)"
      ],
      "execution_count": null,
      "outputs": []
    },
    {
      "cell_type": "code",
      "metadata": {
        "id": "gAebi5LputUH"
      },
      "source": [
        "#Load model\n",
        "learnv2 = learnv2.load(file='/content/drive/MyDrive/NLP_model2.pkl')"
      ],
      "execution_count": null,
      "outputs": []
    },
    {
      "cell_type": "code",
      "metadata": {
        "colab": {
          "base_uri": "https://localhost:8080/",
          "height": 34
        },
        "id": "M2Xial6su7uL",
        "outputId": "e6178906-88cc-4a90-d3b7-638e6d7ce85c"
      },
      "source": [
        "learnv2.validate(ds_idx=0)"
      ],
      "execution_count": null,
      "outputs": [
        {
          "output_type": "display_data",
          "data": {
            "text/html": [
              ""
            ],
            "text/plain": [
              "<IPython.core.display.HTML object>"
            ]
          },
          "metadata": {
            "tags": []
          }
        },
        {
          "output_type": "execute_result",
          "data": {
            "text/plain": [
              "(#2) [0.637085497379303,0.7293238043785095]"
            ]
          },
          "metadata": {
            "tags": []
          },
          "execution_count": 40
        }
      ]
    },
    {
      "cell_type": "code",
      "metadata": {
        "colab": {
          "base_uri": "https://localhost:8080/",
          "height": 34
        },
        "id": "AoR23_F_u-6-",
        "outputId": "67057aa1-8318-4ca5-9dad-26c74ab2d268"
      },
      "source": [
        "learnv2.validate(ds_idx=1)"
      ],
      "execution_count": null,
      "outputs": [
        {
          "output_type": "display_data",
          "data": {
            "text/html": [
              ""
            ],
            "text/plain": [
              "<IPython.core.display.HTML object>"
            ]
          },
          "metadata": {
            "tags": []
          }
        },
        {
          "output_type": "execute_result",
          "data": {
            "text/plain": [
              "(#2) [0.6553114056587219,0.7230077385902405]"
            ]
          },
          "metadata": {
            "tags": []
          },
          "execution_count": 41
        }
      ]
    },
    {
      "cell_type": "code",
      "metadata": {
        "id": "jfaByEp6vLtk"
      },
      "source": [
        "#Load third dataloader\n",
        "with open('/content/drive/MyDrive/dataloader3.pkl', 'rb') as f: \n",
        "  dlsv3 = torch.load(f)"
      ],
      "execution_count": null,
      "outputs": []
    },
    {
      "cell_type": "code",
      "metadata": {
        "id": "dD7IATk8vRWR"
      },
      "source": [
        "#Define third learner object\n",
        "learnv3 = Learner(dlsv3, \n",
        "                model,\n",
        "                opt_func=partial(Adam, decouple_wd=True),\n",
        "                loss_func=CrossEntropyLossFlat(),\n",
        "                metrics=[accuracy],\n",
        "                cbs=[HF_BaseModelCallback],\n",
        "                splitter=hf_splitter)"
      ],
      "execution_count": null,
      "outputs": []
    },
    {
      "cell_type": "code",
      "metadata": {
        "id": "Tf36vKs1vXIk"
      },
      "source": [
        "#Load model\n",
        "learnv3 = learnv3.load(file='/content/drive/MyDrive/NLP_model4-1.pkl')"
      ],
      "execution_count": null,
      "outputs": []
    },
    {
      "cell_type": "code",
      "metadata": {
        "colab": {
          "base_uri": "https://localhost:8080/",
          "height": 34
        },
        "id": "_JFAvFOjvdEl",
        "outputId": "15b3e4c3-63bc-4436-93a1-de5b44904a8a"
      },
      "source": [
        "learnv3.validate(ds_idx=0)"
      ],
      "execution_count": null,
      "outputs": [
        {
          "output_type": "display_data",
          "data": {
            "text/html": [
              ""
            ],
            "text/plain": [
              "<IPython.core.display.HTML object>"
            ]
          },
          "metadata": {
            "tags": []
          }
        },
        {
          "output_type": "execute_result",
          "data": {
            "text/plain": [
              "(#2) [0.6030001640319824,0.7461754083633423]"
            ]
          },
          "metadata": {
            "tags": []
          },
          "execution_count": 45
        }
      ]
    },
    {
      "cell_type": "code",
      "metadata": {
        "colab": {
          "base_uri": "https://localhost:8080/",
          "height": 34
        },
        "id": "uWhrC5EdviRg",
        "outputId": "263ab739-ea89-438b-ce61-fd84911fa639"
      },
      "source": [
        "learnv3.validate(ds_idx=1)"
      ],
      "execution_count": null,
      "outputs": [
        {
          "output_type": "display_data",
          "data": {
            "text/html": [
              ""
            ],
            "text/plain": [
              "<IPython.core.display.HTML object>"
            ]
          },
          "metadata": {
            "tags": []
          }
        },
        {
          "output_type": "execute_result",
          "data": {
            "text/plain": [
              "(#2) [0.6274069547653198,0.7343615889549255]"
            ]
          },
          "metadata": {
            "tags": []
          },
          "execution_count": 46
        }
      ]
    },
    {
      "cell_type": "code",
      "metadata": {
        "id": "w1DHnLNJ2Si8"
      },
      "source": [
        ""
      ],
      "execution_count": null,
      "outputs": []
    }
  ]
}